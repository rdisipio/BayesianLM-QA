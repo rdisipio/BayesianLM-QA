{
 "cells": [
  {
   "cell_type": "markdown",
   "id": "d5a2bf15",
   "metadata": {},
   "source": [
    "\n",
    "# Experiment 3 — LoRA Adapters + Bayesian Approximation (Laplace/Fisher) for 3‑way MCQ\n",
    "\n",
    "**Goal.** Start from a small pretrained text encoder, add **LoRA adapters** to a few attention/projection modules, fine‑tune only those adapters on a **3‑option multiple‑choice** task, then place a **Bayesian posterior** over the *adapter parameters* using a simple **diagonal Laplace / Fisher approximation**.\n",
    "\n",
    "**Why this is nice (for education + speed):**\n",
    "- We avoid sampling full Transformer weights. We only adapt a tiny set of parameters (LoRA).\n",
    "- After fine‑tuning, we build a Gaussian posterior around the MAP solution using the **empirical Fisher diagonal** (i.e., squared gradients under the data).\n",
    "- Posterior predictive = **Monte Carlo average** over a few draws of adapter weights.\n",
    "- We can then plot the same **calibration** and **abstention** figures as in the previous experiments.\n"
   ]
  },
  {
   "cell_type": "markdown",
   "id": "011039a2",
   "metadata": {},
   "source": [
    "\n",
    "## 0) Setup\n",
    "\n",
    "Install (inside your Pipenv or environment):\n",
    "```bash\n",
    "pipenv run pip install \"torch>=2.2\" transformers peft accelerate datasets     scikit-learn pandas matplotlib numpy tqdm\n",
    "```\n",
    "> On Apple Silicon without GPU, this runs on CPU and is fine for small models.\n"
   ]
  },
  {
   "cell_type": "markdown",
   "id": "9bf90e14",
   "metadata": {},
   "source": [
    "\n",
    "## 1) Data — 3‑option MCQ\n",
    "Expecting a pandas DataFrame `df` with columns:\n",
    "- `question`, `option_a`, `option_b`, `option_c`, `label` (0,1,2)\n",
    "\n",
    "Below we create a small default dataset if `df` is not defined yet.\n"
   ]
  },
  {
   "cell_type": "code",
   "execution_count": 1,
   "id": "c2e020dd",
   "metadata": {},
   "outputs": [
    {
     "data": {
      "text/html": [
       "<div>\n",
       "<style scoped>\n",
       "    .dataframe tbody tr th:only-of-type {\n",
       "        vertical-align: middle;\n",
       "    }\n",
       "\n",
       "    .dataframe tbody tr th {\n",
       "        vertical-align: top;\n",
       "    }\n",
       "\n",
       "    .dataframe thead th {\n",
       "        text-align: right;\n",
       "    }\n",
       "</style>\n",
       "<table border=\"1\" class=\"dataframe\">\n",
       "  <thead>\n",
       "    <tr style=\"text-align: right;\">\n",
       "      <th></th>\n",
       "      <th>question</th>\n",
       "      <th>option_a</th>\n",
       "      <th>option_b</th>\n",
       "      <th>option_c</th>\n",
       "      <th>label</th>\n",
       "    </tr>\n",
       "  </thead>\n",
       "  <tbody>\n",
       "    <tr>\n",
       "      <th>0</th>\n",
       "      <td>Which planet is known as the Red Planet?</td>\n",
       "      <td>Mars</td>\n",
       "      <td>Venus</td>\n",
       "      <td>Jupiter</td>\n",
       "      <td>0</td>\n",
       "    </tr>\n",
       "    <tr>\n",
       "      <th>1</th>\n",
       "      <td>Capital of France?</td>\n",
       "      <td>Paris</td>\n",
       "      <td>Berlin</td>\n",
       "      <td>Madrid</td>\n",
       "      <td>0</td>\n",
       "    </tr>\n",
       "    <tr>\n",
       "      <th>2</th>\n",
       "      <td>Which animal barks?</td>\n",
       "      <td>dog</td>\n",
       "      <td>cat</td>\n",
       "      <td>cow</td>\n",
       "      <td>0</td>\n",
       "    </tr>\n",
       "    <tr>\n",
       "      <th>3</th>\n",
       "      <td>Which country hosted the 2016 Summer Olympics?</td>\n",
       "      <td>Brazil</td>\n",
       "      <td>China</td>\n",
       "      <td>UK</td>\n",
       "      <td>0</td>\n",
       "    </tr>\n",
       "    <tr>\n",
       "      <th>4</th>\n",
       "      <td>Who discovered penicillin?</td>\n",
       "      <td>Alexander Fleming</td>\n",
       "      <td>Marie Curie</td>\n",
       "      <td>Louis Pasteur</td>\n",
       "      <td>0</td>\n",
       "    </tr>\n",
       "  </tbody>\n",
       "</table>\n",
       "</div>"
      ],
      "text/plain": [
       "                                         question           option_a  \\\n",
       "0        Which planet is known as the Red Planet?               Mars   \n",
       "1                              Capital of France?              Paris   \n",
       "2                             Which animal barks?                dog   \n",
       "3  Which country hosted the 2016 Summer Olympics?             Brazil   \n",
       "4                      Who discovered penicillin?  Alexander Fleming   \n",
       "\n",
       "      option_b       option_c  label  \n",
       "0        Venus        Jupiter      0  \n",
       "1       Berlin         Madrid      0  \n",
       "2          cat            cow      0  \n",
       "3        China             UK      0  \n",
       "4  Marie Curie  Louis Pasteur      0  "
      ]
     },
     "execution_count": 1,
     "metadata": {},
     "output_type": "execute_result"
    }
   ],
   "source": [
    "\n",
    "import pandas as pd\n",
    "\n",
    "if 'df' not in globals():\n",
    "    rows = [\n",
    "        # label 0\n",
    "        {\"question\": \"Which planet is known as the Red Planet?\", \"option_a\": \"Mars\", \"option_b\": \"Venus\", \"option_c\": \"Jupiter\", \"label\": 0},\n",
    "        {\"question\": \"Capital of France?\", \"option_a\": \"Paris\", \"option_b\": \"Berlin\", \"option_c\": \"Madrid\", \"label\": 0},\n",
    "        {\"question\": \"Which animal barks?\", \"option_a\": \"dog\", \"option_b\": \"cat\", \"option_c\": \"cow\", \"label\": 0},\n",
    "        {\"question\": \"Which country hosted the 2016 Summer Olympics?\", \"option_a\": \"Brazil\", \"option_b\": \"China\", \"option_c\": \"UK\", \"label\": 0},\n",
    "        {\"question\": \"Who discovered penicillin?\", \"option_a\": \"Alexander Fleming\", \"option_b\": \"Marie Curie\", \"option_c\": \"Louis Pasteur\", \"label\": 0},\n",
    "        {\"question\": \"What is the capital of Japan?\", \"option_a\": \"Kyoto\", \"option_b\": \"Tokyo\", \"option_c\": \"Osaka\", \"label\": 0},\n",
    "        {\"question\": \"Which is the fastest land animal?\", \"option_a\": \"Cheetah\", \"option_b\": \"Horse\", \"option_c\": \"Lion\", \"label\": 0},\n",
    "        {\"question\": \"Who wrote 'Romeo and Juliet'?\", \"option_a\": \"William Shakespeare\", \"option_b\": \"Charles Dickens\", \"option_c\": \"Mark Twain\", \"label\": 0},\n",
    "        {\"question\": \"Which gas is essential for respiration?\", \"option_a\": \"Oxygen\", \"option_b\": \"Carbon monoxide\", \"option_c\": \"Helium\", \"label\": 0},\n",
    "        {\"question\": \"Which continent is Egypt located in?\", \"option_a\": \"Africa\", \"option_b\": \"Asia\", \"option_c\": \"Europe\", \"label\": 0},\n",
    "        # label 1\n",
    "        {\"question\": \"What color are bananas when ripe?\", \"option_a\": \"red\", \"option_b\": \"yellow\", \"option_c\": \"blue\", \"label\": 1},\n",
    "        {\"question\": \"How many continents are there?\", \"option_a\": \"Five\", \"option_b\": \"Seven\", \"option_c\": \"Six\", \"label\": 1},\n",
    "        {\"question\": \"Who painted the Mona Lisa?\", \"option_a\": \"Michelangelo\", \"option_b\": \"Leonardo da Vinci\", \"option_c\": \"Raphael\", \"label\": 1},\n",
    "        {\"question\": \"What is the boiling point of water at sea level (°C)?\", \"option_a\": \"90\", \"option_b\": \"100\", \"option_c\": \"110\", \"label\": 1},\n",
    "        {\"question\": \"2 + 2 equals?\", \"option_a\": \"3\", \"option_b\": \"4\", \"option_c\": \"5\", \"label\": 1},\n",
    "        {\"question\": \"How many players are on a standard soccer team (on field)?\", \"option_a\": \"9\", \"option_b\": \"11\", \"option_c\": \"12\", \"label\": 1},\n",
    "        {\"question\": \"Which element has the symbol 'O'?\", \"option_a\": \"Osmium\", \"option_b\": \"Oxygen\", \"option_c\": \"Gold\", \"label\": 1},\n",
    "        {\"question\": \"Which shape has three sides?\", \"option_a\": \"Square\", \"option_b\": \"Triangle\", \"option_c\": \"Pentagon\", \"label\": 1},\n",
    "        {\"question\": \"What is the largest mammal?\", \"option_a\": \"Elephant\", \"option_b\": \"Blue Whale\", \"option_c\": \"Giraffe\", \"label\": 1},\n",
    "        {\"question\": \"Which ocean is the largest?\", \"option_a\": \"Pacific Ocean\", \"option_b\": \"Atlantic Ocean\", \"option_c\": \"Indian Ocean\", \"label\": 1},\n",
    "        # label 2\n",
    "        {\"question\": \"Which organ pumps blood in the human body?\", \"option_a\": \"Lungs\", \"option_b\": \"Brain\", \"option_c\": \"Heart\", \"label\": 2},\n",
    "        {\"question\": \"The Sun is a ...\", \"option_a\": \"planet\", \"option_b\": \"comet\", \"option_c\": \"star\", \"label\": 2},\n",
    "        {\"question\": \"Which metal is liquid at room temperature?\", \"option_a\": \"Mercury\", \"option_b\": \"Iron\", \"option_c\": \"Aluminum\", \"label\": 2},\n",
    "        {\"question\": \"The Great Wall is located in which country?\", \"option_a\": \"India\", \"option_b\": \"China\", \"option_c\": \"Japan\", \"label\": 2},\n",
    "        {\"question\": \"Which planet has the most moons?\", \"option_a\": \"Jupiter\", \"option_b\": \"Saturn\", \"option_c\": \"Neptune\", \"label\": 2},\n",
    "        {\"question\": \"Which gas do humans exhale?\", \"option_a\": \"Oxygen\", \"option_b\": \"Carbon dioxide\", \"option_c\": \"Nitrogen\", \"label\": 2},\n",
    "        {\"question\": \"Which city is known as the Big Apple?\", \"option_a\": \"New York\", \"option_b\": \"Los Angeles\", \"option_c\": \"Chicago\", \"label\": 0},\n",
    "        {\"question\": \"Which country is both in Europe and Asia?\", \"option_a\": \"Turkey\", \"option_b\": \"Spain\", \"option_c\": \"Mexico\", \"label\": 0},\n",
    "        {\"question\": \"Which month has 28 days?\", \"option_a\": \"February\", \"option_b\": \"June\", \"option_c\": \"November\", \"label\": 0},\n",
    "        {\"question\": \"What is the chemical symbol for gold?\", \"option_a\": \"Ag\", \"option_b\": \"Au\", \"option_c\": \"Pb\", \"label\": 1},\n",
    "    ]\n",
    "    df = pd.DataFrame(rows)\n",
    "\n",
    "df.head()\n"
   ]
  },
  {
   "cell_type": "markdown",
   "id": "0cd2b456",
   "metadata": {},
   "source": [
    "\n",
    "## 2) Split\n"
   ]
  },
  {
   "cell_type": "code",
   "execution_count": 2,
   "id": "b50f3d18",
   "metadata": {},
   "outputs": [
    {
     "data": {
      "text/plain": [
       "(18, 12)"
      ]
     },
     "execution_count": 2,
     "metadata": {},
     "output_type": "execute_result"
    }
   ],
   "source": [
    "\n",
    "from sklearn.model_selection import train_test_split\n",
    "import numpy as np\n",
    "\n",
    "y = df['label'].values.astype(int)\n",
    "train_df, test_df = train_test_split(df, test_size=0.4, random_state=42, stratify=y if len(np.unique(y))>1 else None)\n",
    "len(train_df), len(test_df)\n"
   ]
  },
  {
   "cell_type": "markdown",
   "id": "cbe48f2a",
   "metadata": {},
   "source": [
    "\n",
    "## 3) Model — Tiny encoder + LoRA adapters\n",
    "\n",
    "We use a **very small** encoder to keep it fast (e.g., `prajjwal1/bert-tiny`). We score each (question, option) pair separately, then **softmax across the 3 options**.\n"
   ]
  },
  {
   "cell_type": "code",
   "execution_count": 98,
   "id": "7ca31aff",
   "metadata": {},
   "outputs": [],
   "source": [
    "\n",
    "import torch\n",
    "from torch import nn\n",
    "from transformers import AutoTokenizer, AutoModel\n",
    "from peft import LoraConfig, get_peft_model, TaskType\n",
    "\n",
    "device = torch.device(\"cuda\" if torch.cuda.is_available() else \"cpu\")\n",
    "#model_name = \"prajjwal1/bert-tiny\"  # small & fast\n",
    "#model_name = \"microsoft/MiniLM-L12-H384-uncased\"\n",
    "model_name = \"prajjwal1/bert-small\"\n",
    "\n",
    "tok = AutoTokenizer.from_pretrained(model_name)\n",
    "base = AutoModel.from_pretrained(model_name).to(device)\n",
    "base.eval()\n",
    "\n",
    "# Freeze base model\n",
    "for p in base.parameters():\n",
    "    p.requires_grad_(False)\n",
    "\n",
    "# Attach LoRA to attention projections (keys vary by model; this works for BERT-like)\n",
    "lora_cfg = LoraConfig(\n",
    "    task_type=TaskType.FEATURE_EXTRACTION,\n",
    "    r=16,              # was 8\n",
    "    lora_alpha=32,     # scale with r\n",
    "    lora_dropout=0.05,\n",
    "    target_modules=[\"query\", \"key\", \"value\", \"dense\"],\n",
    "    bias=\"none\",\n",
    ")\n",
    "base_lora = get_peft_model(base, lora_cfg).to(device)\n",
    "base_lora.train()\n",
    "\n",
    "# Lightweight classification head on top of [CLS]\n",
    "hidden = base.config.hidden_size\n",
    "head = nn.Sequential(\n",
    "    nn.Dropout(0.2),\n",
    "    nn.Linear(base.config.hidden_size, 1, bias=True)\n",
    ").to(device)\n",
    "# nn.init.zeros_(head.bias)\n"
   ]
  },
  {
   "cell_type": "markdown",
   "id": "3c4a1aed",
   "metadata": {},
   "source": [
    "\n",
    "## 4) Dataloaders — turn MCQ into pairwise inputs\n",
    "\n",
    "Each example yields 3 encodings: (question, option_a/b/c) → we get [CLS] and score each separately.\n"
   ]
  },
  {
   "cell_type": "code",
   "execution_count": 90,
   "id": "8f3974a8",
   "metadata": {},
   "outputs": [],
   "source": [
    "\n",
    "from torch.utils.data import Dataset, DataLoader\n",
    "from tqdm import tqdm\n",
    "\n",
    "class MCQPairs(Dataset):\n",
    "    def __init__(self, frame, tokenizer, max_length=128):\n",
    "        self.rows = frame.reset_index(drop=True)\n",
    "        self.tok = tokenizer\n",
    "        self.max_length = max_length\n",
    "\n",
    "    def __len__(self):\n",
    "        return len(self.rows)\n",
    "\n",
    "    def __getitem__(self, idx):\n",
    "        r = self.rows.iloc[idx]\n",
    "        q = str(r[\"question\"])\n",
    "        opts = [str(r[\"option_a\"]), str(r[\"option_b\"]), str(r[\"option_c\"])]\n",
    "        label = int(r[\"label\"])\n",
    "        return q, opts, label\n",
    "\n",
    "def collate(batch):\n",
    "    qs, opts_list, labels = zip(*batch)\n",
    "    pairs = []\n",
    "    opt_pos = []  # 0 for A, 1 for B, 2 for C\n",
    "    map_indices = []  # which original item this pair belongs to\n",
    "\n",
    "    for i, (q, opts) in enumerate(zip(qs, opts_list)):\n",
    "        for j, a in enumerate(opts):\n",
    "            pairs.append((q, a))\n",
    "            opt_pos.append(j)\n",
    "            map_indices.append(i)\n",
    "\n",
    "    enc_be = tok([q for q, a in pairs],\n",
    "                 [a for q, a in pairs],\n",
    "                 truncation=True, padding=True, max_length=128, return_tensors=\"pt\").to(device)\n",
    "\n",
    "    allowed = {\"input_ids\",\"attention_mask\",\"token_type_ids\"}\n",
    "    enc = {k: v for k, v in dict(enc_be).items() if k in allowed and v is not None}\n",
    "\n",
    "    return enc, torch.tensor(map_indices, dtype=torch.long), torch.tensor(opt_pos, dtype=torch.long), torch.tensor(labels, dtype=torch.long)\n",
    "\n",
    "train_ds = MCQPairs(train_df, tok)\n",
    "test_ds  = MCQPairs(test_df, tok)\n",
    "\n",
    "train_loader = DataLoader(train_ds, batch_size=16, shuffle=True, collate_fn=collate)\n",
    "test_loader  = DataLoader(test_ds,  batch_size=32, shuffle=False, collate_fn=collate)\n"
   ]
  },
  {
   "cell_type": "markdown",
   "id": "7c39cf25",
   "metadata": {},
   "source": [
    "\n",
    "## 5) Fine‑tune LoRA adapters (MAP estimate)\n",
    "\n",
    "We optimize only **LoRA adapter params** and the **linear head**, with cross‑entropy over the 3 options.\n"
   ]
  },
  {
   "cell_type": "code",
   "execution_count": 99,
   "id": "3584c9d5",
   "metadata": {},
   "outputs": [
    {
     "name": "stderr",
     "output_type": "stream",
     "text": [
      "                                                           \r"
     ]
    },
    {
     "name": "stdout",
     "output_type": "stream",
     "text": [
      "epoch 01 | train loss 1.136 acc 0.389 | test loss 1.128 acc 0.250\n"
     ]
    },
    {
     "name": "stderr",
     "output_type": "stream",
     "text": [
      "                                                           \r"
     ]
    },
    {
     "name": "stdout",
     "output_type": "stream",
     "text": [
      "epoch 02 | train loss 1.120 acc 0.222 | test loss 1.128 acc 0.250\n"
     ]
    },
    {
     "name": "stderr",
     "output_type": "stream",
     "text": [
      "                                                           \r"
     ]
    },
    {
     "name": "stdout",
     "output_type": "stream",
     "text": [
      "epoch 03 | train loss 1.125 acc 0.111 | test loss 1.128 acc 0.250\n"
     ]
    },
    {
     "name": "stderr",
     "output_type": "stream",
     "text": [
      "                                                           \r"
     ]
    },
    {
     "name": "stdout",
     "output_type": "stream",
     "text": [
      "epoch 04 | train loss 1.100 acc 0.167 | test loss 1.128 acc 0.250\n"
     ]
    },
    {
     "name": "stderr",
     "output_type": "stream",
     "text": [
      "                                                           \r"
     ]
    },
    {
     "name": "stdout",
     "output_type": "stream",
     "text": [
      "epoch 05 | train loss 1.051 acc 0.444 | test loss 1.128 acc 0.250\n"
     ]
    },
    {
     "name": "stderr",
     "output_type": "stream",
     "text": [
      "                                                           \r"
     ]
    },
    {
     "name": "stdout",
     "output_type": "stream",
     "text": [
      "epoch 06 | train loss 1.094 acc 0.444 | test loss 1.128 acc 0.250\n"
     ]
    },
    {
     "name": "stderr",
     "output_type": "stream",
     "text": [
      "                                                           "
     ]
    },
    {
     "name": "stdout",
     "output_type": "stream",
     "text": [
      "Early stopping at epoch 7\n"
     ]
    },
    {
     "name": "stderr",
     "output_type": "stream",
     "text": [
      "\r"
     ]
    }
   ],
   "source": [
    "# ==== TRAINING LOOP (inline, robust regrouping) ====\n",
    "\n",
    "import torch\n",
    "from torch import nn\n",
    "from tqdm import tqdm\n",
    "\n",
    "# 1) Unfreeze the last transformer layer of bert-tiny (layer 1)\n",
    "for n, p in base_lora.named_parameters():\n",
    "    if \"encoder.layer.11.\" in n:    # bert-tiny has layers 0 and 1\n",
    "        p.requires_grad_(True)\n",
    "\n",
    "# 2) Two-group optimizer: tiny LR for the unfrozen backbone layer, larger for LoRA + head\n",
    "backbone_params = [p for n,p in base_lora.named_parameters() if p.requires_grad and \"encoder.layer.11.\" in n]\n",
    "head_and_lora   = [p for n,p in base_lora.named_parameters() if p.requires_grad and \"encoder.layer.11.\" not in n] + list(head.parameters())\n",
    "\n",
    "opt = torch.optim.AdamW(\n",
    "    [\n",
    "        {\"params\": backbone_params, \"lr\": 5e-6},\n",
    "        {\"params\": head_and_lora,   \"lr\": 1e-4},\n",
    "    ],\n",
    "    weight_decay=5e-3\n",
    ")\n",
    "\n",
    "ce = nn.CrossEntropyLoss()\n",
    "EPOCHS = 30\n",
    "best_te = float(\"inf\")\n",
    "patience, bad = 6, 0\n",
    "\n",
    "def forward_scores(enc_outputs, head, attn_mask=None):\n",
    "    last = enc_outputs.last_hidden_state  # (B,T,H)\n",
    "    if attn_mask is None:\n",
    "        pooled = last.mean(dim=1)\n",
    "    else:\n",
    "        m = attn_mask.unsqueeze(-1).float()  # (B,T,1)\n",
    "        pooled = (last * m).sum(dim=1) / m.sum(dim=1).clamp_min(1e-6)\n",
    "    return head(pooled).squeeze(-1)  # (B,)\n",
    "\n",
    "for ep in range(1, EPOCHS+1):\n",
    "    # ---- TRAIN ----\n",
    "    base_lora.train(); head.train()\n",
    "    total, correct, loss_sum = 0, 0, 0.0\n",
    "\n",
    "    for enc, map_idx, opt_pos, gold in tqdm(train_loader, desc=f\"ep {ep} [train]\", leave=False):\n",
    "        out = base_lora(\n",
    "            input_ids=enc.get(\"input_ids\"),\n",
    "            attention_mask=enc.get(\"attention_mask\"),\n",
    "            token_type_ids=enc.get(\"token_type_ids\"),\n",
    "        )\n",
    "        scores = forward_scores(out, head, attn_mask=enc.get(\"attention_mask\"))  # (B_pairs,)\n",
    "\n",
    "        # regroup per item/option using explicit indices\n",
    "        N = gold.shape[0]\n",
    "        scores3 = torch.full((N, 3), -1e-9, device=scores.device)\n",
    "        mi = map_idx.to(scores.device)\n",
    "        op = opt_pos.to(scores.device)\n",
    "        scores3[mi, op] = scores  # fill by (item, option)\n",
    "\n",
    "        loss = ce(scores3, gold.to(scores3.device))\n",
    "\n",
    "        opt.zero_grad()\n",
    "        loss.backward()\n",
    "        opt.step()\n",
    "\n",
    "        # metrics\n",
    "        loss_sum += loss.item() * N\n",
    "        pred = scores3.argmax(dim=1)\n",
    "        correct += (pred == gold.to(scores3.device)).sum().item()\n",
    "        total += N\n",
    "\n",
    "    tr_loss = loss_sum / max(total, 1)\n",
    "    tr_acc  = correct / max(total, 1)\n",
    "\n",
    "    # ---- EVAL ---- (use the same regrouping!)\n",
    "    base_lora.eval(); head.eval()\n",
    "    total, correct, loss_sum = 0, 0, 0.0\n",
    "\n",
    "    with torch.no_grad():\n",
    "        for enc, map_idx, opt_pos, gold in tqdm(test_loader, desc=f\"ep {ep} [eval]\", leave=False):\n",
    "            out = base_lora(\n",
    "                input_ids=enc.get(\"input_ids\"),\n",
    "                attention_mask=enc.get(\"attention_mask\"),\n",
    "                token_type_ids=enc.get(\"token_type_ids\"),\n",
    "            )\n",
    "            scores = forward_scores(out, head, attn_mask=enc.get(\"attention_mask\"))  # (B_pairs,)\n",
    "\n",
    "            N = gold.shape[0]\n",
    "            scores3 = torch.full((N, 3), -1e-9, device=scores.device)\n",
    "            mi = map_idx.to(scores.device)\n",
    "            op = opt_pos.to(scores.device)\n",
    "            scores3[mi, op] = scores\n",
    "\n",
    "            loss = ce(scores3, gold.to(scores3.device))\n",
    "            loss_sum += loss.item() * N\n",
    "            pred = scores3.argmax(dim=1)\n",
    "            correct += (pred == gold.to(scores3.device)).sum().item()\n",
    "            total += N\n",
    "\n",
    "    te_loss = loss_sum / max(total, 1)\n",
    "    te_acc  = correct / max(total, 1)\n",
    "\n",
    "    # early stopping on eval loss\n",
    "    if te_loss < best_te - 1e-3:\n",
    "        best_te = te_loss\n",
    "        bad = 0\n",
    "        best_state = {\"lora\": base_lora.state_dict(), \"head\": head.state_dict()}\n",
    "    else:\n",
    "        bad += 1\n",
    "        if bad >= patience:\n",
    "            print(f\"Early stopping at epoch {ep}\")\n",
    "            break\n",
    "\n",
    "    print(f\"epoch {ep:02d} | train loss {tr_loss:.3f} acc {tr_acc:.3f} | test loss {te_loss:.3f} acc {te_acc:.3f}\")\n",
    "\n",
    "# (optional) restore best\n",
    "if 'best_state' in locals():\n",
    "    base_lora.load_state_dict(best_state[\"lora\"])\n",
    "    head.load_state_dict(best_state[\"head\"])"
   ]
  },
  {
   "cell_type": "markdown",
   "id": "0e837edc",
   "metadata": {},
   "source": [
    "\n",
    "## 6) Diagonal Laplace / Empirical Fisher over LoRA + head\n",
    "\n",
    "We approximate the posterior around the MAP θ with a **diagonal Gaussian**.  \n",
    "For a batch, we accumulate the **squared gradients of log‑likelihood** (equivalently, gradients of CE) as the **empirical Fisher diagonal**.\n"
   ]
  },
  {
   "cell_type": "code",
   "execution_count": 100,
   "id": "83f35359",
   "metadata": {},
   "outputs": [
    {
     "name": "stderr",
     "output_type": "stream",
     "text": [
      "100%|██████████| 2/2 [00:00<00:00,  8.44it/s]"
     ]
    },
    {
     "name": "stdout",
     "output_type": "stream",
     "text": [
      "F_diag shape: torch.Size([606721]) mean: 1.945680878634448e-06\n"
     ]
    },
    {
     "name": "stderr",
     "output_type": "stream",
     "text": [
      "\n"
     ]
    }
   ],
   "source": [
    "# ===== Fisher diagonal (robust regrouping + explicit kwargs) =====\n",
    "\n",
    "# Trainable vectorization helpers (as you already defined)\n",
    "trainable = [p for p in base_lora.parameters() if p.requires_grad] + list(head.parameters())\n",
    "shapes = [p.shape for p in trainable]\n",
    "numel = sum(p.numel() for p in trainable)\n",
    "\n",
    "def pack(params):\n",
    "    return torch.cat([p.detach().flatten() for p in params]).to(device)\n",
    "\n",
    "def pack_grads(params):\n",
    "    parts = []\n",
    "    for p in params:\n",
    "        if p.grad is None:\n",
    "            parts.append(torch.zeros_like(p).reshape(-1))\n",
    "        else:\n",
    "            parts.append(p.grad.detach().reshape(-1))\n",
    "    return torch.cat(parts).to(device)\n",
    "\n",
    "def unpack(vec):\n",
    "    out, i = [], 0\n",
    "    for shp in shapes:\n",
    "        n = int(torch.tensor(shp).prod().item())\n",
    "        out.append(vec[i:i+n].view(shp).clone())\n",
    "        i += n\n",
    "    return out\n",
    "\n",
    "theta_map = pack(trainable)\n",
    "\n",
    "# Compute empirical Fisher diagonal F ≈ E[(∂/∂θ log p(y|x,θ))^2]\n",
    "def fisher_diag(dataloader, num_batches=None, use_train_mode=False):\n",
    "    # You can flip to train() if you want dropout active for Fisher\n",
    "    base_lora.train() if use_train_mode else base_lora.eval()\n",
    "    head.train()     if use_train_mode else head.eval()\n",
    "\n",
    "    F = torch.zeros(numel, device=device)\n",
    "    ce = nn.CrossEntropyLoss()\n",
    "    count = 0\n",
    "\n",
    "    for b, (enc, map_idx, opt_pos, gold) in enumerate(tqdm(dataloader, disable=False)):\n",
    "        if num_batches and b >= num_batches:\n",
    "            break\n",
    "\n",
    "        base_lora.zero_grad(set_to_none=True)\n",
    "        head.zero_grad(set_to_none=True)\n",
    "\n",
    "        # Forward with explicit kwargs (no stray keys)\n",
    "        out = base_lora(\n",
    "            input_ids=enc.get(\"input_ids\"),\n",
    "            attention_mask=enc.get(\"attention_mask\"),\n",
    "            token_type_ids=enc.get(\"token_type_ids\"),\n",
    "        )\n",
    "        scores = forward_scores(out, head, attn_mask=enc.get(\"attention_mask\"))  # (B_pairs,)\n",
    "\n",
    "        # Reassemble scores per (item, option)\n",
    "        N = gold.shape[0]\n",
    "        scores3 = torch.full((N, 3), -1e-9, device=scores.device)\n",
    "        mi = map_idx.to(scores.device)\n",
    "        op = opt_pos.to(scores.device)\n",
    "        scores3[mi, op] = scores\n",
    "\n",
    "        loss = ce(scores3, gold.to(scores3.device))\n",
    "        loss.backward()\n",
    "\n",
    "        g = pack_grads(trainable)\n",
    "        F += g.pow(2)\n",
    "        count += 1\n",
    "\n",
    "    if count > 0:\n",
    "        F /= count\n",
    "    F = F + 1e-8  # jitter\n",
    "    return F\n",
    "\n",
    "F_diag = fisher_diag(train_loader, num_batches=None, use_train_mode=False)\n",
    "print(\"F_diag shape:\", F_diag.shape, \"mean:\", F_diag.mean().item())"
   ]
  },
  {
   "cell_type": "markdown",
   "id": "2ba59d4d",
   "metadata": {},
   "source": [
    "\n",
    "## 7) Posterior predictive via Gaussian samples over θ\n",
    "\n",
    "We assume a **Gaussian posterior**: \\( \\theta \\sim \\mathcal{N}(\\theta_{MAP}, \\Sigma) \\)  \n",
    "with diagonal \\( \\Sigma = (\\lambda \\cdot F)^{-1} \\). Hyper‑parameter \\(\\lambda\\) acts like precision from a simple Gaussian prior / damping.\n"
   ]
  },
  {
   "cell_type": "code",
   "execution_count": 102,
   "id": "018e1a55",
   "metadata": {},
   "outputs": [
    {
     "name": "stdout",
     "output_type": "stream",
     "text": [
      "p_tr / p_te shapes: (18, 3) (12, 3)\n"
     ]
    }
   ],
   "source": [
    "import math\n",
    "import torch\n",
    "import numpy as np\n",
    "\n",
    "@torch.no_grad()\n",
    "def set_params_from_vector(vec):\n",
    "    parts = unpack(vec)\n",
    "    i = 0\n",
    "    for p in base_lora.parameters():\n",
    "        if p.requires_grad:\n",
    "            p.copy_(parts[i]); i += 1\n",
    "    for p in head.parameters():\n",
    "        p.copy_(parts[i]); i += 1\n",
    "\n",
    "@torch.no_grad()\n",
    "def predict_proba_mc(dataloader, S=50, lam=1.0):\n",
    "    base_lora.eval(); head.eval()\n",
    "\n",
    "    var = 1.0 / (lam * F_diag)          # (numel,)\n",
    "    std = var.sqrt()\n",
    "    theta0 = pack(trainable)            # cache current params\n",
    "\n",
    "    all_probs = []\n",
    "    for s in range(S):\n",
    "        # sample adapter params\n",
    "        eps = torch.randn_like(std)\n",
    "        theta_s = theta_map + eps * std\n",
    "        set_params_from_vector(theta_s)\n",
    "\n",
    "        # sweep the data once\n",
    "        probs_batches = []\n",
    "        for enc, map_idx, opt_pos, gold in dataloader:\n",
    "            out = base_lora(\n",
    "                input_ids=enc.get(\"input_ids\"),\n",
    "                attention_mask=enc.get(\"attention_mask\"),\n",
    "                token_type_ids=enc.get(\"token_type_ids\"),\n",
    "            )\n",
    "\n",
    "            # use the same pooling as training\n",
    "            last = out.last_hidden_state\n",
    "            m = enc.get(\"attention_mask\")\n",
    "            if m is not None:\n",
    "                m = m.unsqueeze(-1).float()\n",
    "                pooled = (last * m).sum(dim=1) / m.sum(dim=1).clamp_min(1e-6)\n",
    "            else:\n",
    "                pooled = last.mean(dim=1)\n",
    "\n",
    "            scores = head(pooled).squeeze(-1)  # (B_pairs,)\n",
    "\n",
    "            # regroup by (item, option)\n",
    "            N = gold.shape[0]\n",
    "            scores3 = torch.full((N, 3), -1e-9, device=scores.device)\n",
    "            mi = map_idx.to(scores.device)\n",
    "            op = opt_pos.to(scores.device)\n",
    "            scores3[mi, op] = scores\n",
    "\n",
    "            p = torch.softmax(scores3, dim=1)   # (N, 3)\n",
    "            probs_batches.append(p.detach().cpu())\n",
    "\n",
    "        all_probs.append(torch.cat(probs_batches, dim=0))  # (N, 3) CPU\n",
    "\n",
    "    # restore original params\n",
    "    set_params_from_vector(theta0)\n",
    "\n",
    "    # stack, mean, numpy\n",
    "    P = torch.stack(all_probs, dim=0).mean(dim=0).cpu().numpy()\n",
    "    return P  # (N, 3)\n",
    "\n",
    "# run\n",
    "p_tr = predict_proba_mc(train_loader, S=50, lam=1.0)\n",
    "p_te = predict_proba_mc(test_loader,  S=50, lam=1.0)\n",
    "print(\"p_tr / p_te shapes:\", p_tr.shape, p_te.shape)"
   ]
  },
  {
   "cell_type": "markdown",
   "id": "fa877f20",
   "metadata": {},
   "source": [
    "\n",
    "## 8) Metrics: Accuracy, Reliability Diagram, Selective Prediction\n"
   ]
  },
  {
   "cell_type": "code",
   "execution_count": 103,
   "id": "6eed5586",
   "metadata": {},
   "outputs": [
    {
     "name": "stdout",
     "output_type": "stream",
     "text": [
      "Accuracy: train=0.444, test=0.417\n"
     ]
    },
    {
     "data": {
      "image/png": "[encoded data removed]",
      "text/plain": [
       "<Figure size 600x400 with 1 Axes>"
      ]
     },
     "metadata": {},
     "output_type": "display_data"
    },
    {
     "name": "stdout",
     "output_type": "stream",
     "text": [
      "ECE=0.000, MCE=nan\n"
     ]
    },
    {
     "data": {
      "image/png": "[encoded data removed]",
      "text/plain": [
       "<Figure size 600x600 with 1 Axes>"
      ]
     },
     "metadata": {},
     "output_type": "display_data"
    }
   ],
   "source": [
    "\n",
    "import numpy as np\n",
    "import matplotlib.pyplot as plt\n",
    "\n",
    "y_train = train_df['label'].values.astype(int)\n",
    "y_test  = test_df['label'].values.astype(int)\n",
    "\n",
    "acc_tr = (p_tr.argmax(axis=1) == y_train).mean()\n",
    "acc_te = (p_te.argmax(axis=1) == y_test).mean()\n",
    "print(f\"Accuracy: train={acc_tr:.3f}, test={acc_te:.3f}\")\n",
    "\n",
    "def evaluate_with_abstention(probs, y_true, tau=0.8):\n",
    "    probs = np.asarray(probs); y_true = np.asarray(y_true)\n",
    "    conf = probs.max(axis=1)\n",
    "    pred = probs.argmax(axis=1)\n",
    "    answered = conf >= float(tau)\n",
    "    coverage = answered.mean()\n",
    "    acc = float(\"nan\") if coverage == 0 else (pred[answered] == y_true[answered]).mean()\n",
    "    return coverage, acc\n",
    "\n",
    "taus = np.linspace(0.0, 0.99, 40)\n",
    "curve = np.array([evaluate_with_abstention(p_te, y_test, tau=t) for t in taus])\n",
    "coverages, accs = curve[:, 0], curve[:, 1]\n",
    "\n",
    "plt.figure(figsize=(6,4))\n",
    "plt.plot(coverages, accs, marker=\"o\")\n",
    "plt.xlabel(\"Coverage (fraction answered)\")\n",
    "plt.ylabel(\"Accuracy on answered\")\n",
    "plt.title(\"Selective Prediction: Accuracy vs Coverage (LoRA + Laplace)\")\n",
    "plt.grid(True); plt.show()\n",
    "\n",
    "def reliability_curve(probs, y_true, bins=8):\n",
    "    conf = probs.max(axis=1)\n",
    "    pred = probs.argmax(axis=1)\n",
    "    bin_edges = np.linspace(0.0, 1.0, bins + 1)\n",
    "    bin_ids = np.digitize(conf, bin_edges) - 1\n",
    "    bin_acc, bin_conf, bin_count = [], [], []\n",
    "    for b in range(bins):\n",
    "        mask = (bin_ids == b)\n",
    "        if mask.sum() > 0:\n",
    "            bin_acc.append((pred[mask] == y_true[mask]).mean())\n",
    "            bin_conf.append(conf[mask].mean())\n",
    "            bin_count.append(mask.sum())\n",
    "        else:\n",
    "            bin_acc.append(np.nan); bin_conf.append(np.nan); bin_count.append(0)\n",
    "    return np.array(bin_conf), np.array(bin_acc), np.array(bin_count), bin_edges\n",
    "\n",
    "def expected_calibration_error(probs, y_true, bins=8):\n",
    "    bin_conf, bin_acc, bin_cnt, _ = reliability_curve(probs, y_true, bins=bins)\n",
    "    mask = ~np.isnan(bin_conf)\n",
    "    weights = bin_cnt[mask] / bin_cnt[mask].sum() if bin_cnt[mask].sum()>0 else np.zeros_like(bin_cnt[mask])\n",
    "    ece = np.sum(weights * np.abs(bin_acc[mask] - bin_conf[mask]))\n",
    "    mce = np.max(np.abs(bin_acc[mask] - bin_conf[mask])) if mask.any() else np.nan\n",
    "    return ece, mce, bin_conf, bin_acc\n",
    "\n",
    "ece, mce, bin_conf, bin_acc = expected_calibration_error(p_te, y_test, bins=8)\n",
    "print(f\"ECE={ece:.3f}, MCE={mce:.3f}\")\n",
    "\n",
    "plt.figure(figsize=(6,6))\n",
    "plt.plot([0,1],[0,1],\"k--\", label=\"perfect\")\n",
    "valid = ~np.isnan(bin_conf)\n",
    "plt.scatter(bin_conf[valid], bin_acc[valid], s=60)\n",
    "plt.xlabel(\"Mean predicted confidence\"); plt.ylabel(\"Empirical accuracy\")\n",
    "plt.title(\"Reliability Diagram (LoRA + Laplace)\")\n",
    "plt.grid(True); plt.legend(); plt.show()\n"
   ]
  },
  {
   "cell_type": "markdown",
   "id": "9bc13080",
   "metadata": {},
   "source": [
    "\n",
    "## 9) Per‑question posterior predictive (mean ± 1σ) with markers\n"
   ]
  },
  {
   "cell_type": "code",
   "execution_count": 105,
   "id": "9c99655f",
   "metadata": {},
   "outputs": [
    {
     "data": {
      "image/png": "[encoded data removed]",
      "text/plain": [
       "<Figure size 640x480 with 1 Axes>"
      ]
     },
     "metadata": {},
     "output_type": "display_data"
    },
    {
     "data": {
      "image/png": "[encoded data removed]",
      "text/plain": [
       "<Figure size 640x480 with 1 Axes>"
      ]
     },
     "metadata": {},
     "output_type": "display_data"
    },
    {
     "data": {
      "image/png": "[encoded data removed]",
      "text/plain": [
       "<Figure size 640x480 with 1 Axes>"
      ]
     },
     "metadata": {},
     "output_type": "display_data"
    }
   ],
   "source": [
    "from matplotlib.lines import Line2D\n",
    "import numpy as np\n",
    "import torch\n",
    "\n",
    "@torch.no_grad()\n",
    "def posterior_samples_for_loader(dataloader, S=50, lam=1.0):\n",
    "    \"\"\"\n",
    "    Returns array of shape (S, N, 3) with per-sample posterior predictive probs.\n",
    "    Uses the same mean-pooling and (map_idx, opt_pos) regrouping as training.\n",
    "    \"\"\"\n",
    "    base_lora.eval(); head.eval()\n",
    "    var = 1.0 / (lam * F_diag)\n",
    "    std = var.sqrt()\n",
    "    theta0 = pack(trainable)\n",
    "\n",
    "    all_P = []\n",
    "    for s in range(S):\n",
    "        eps = torch.randn_like(std)\n",
    "        theta_s = theta_map + eps * std\n",
    "        set_params_from_vector(theta_s)\n",
    "\n",
    "        probs_batches = []\n",
    "        for enc, map_idx, opt_pos, gold in dataloader:\n",
    "            out = base_lora(\n",
    "                input_ids=enc.get(\"input_ids\"),\n",
    "                attention_mask=enc.get(\"attention_mask\"),\n",
    "                token_type_ids=enc.get(\"token_type_ids\"),\n",
    "            )\n",
    "            # mean pooling with mask (same as training)\n",
    "            last = out.last_hidden_state\n",
    "            m = enc.get(\"attention_mask\")\n",
    "            if m is not None:\n",
    "                mm = m.unsqueeze(-1).float()\n",
    "                pooled = (last * mm).sum(dim=1) / mm.sum(dim=1).clamp_min(1e-6)\n",
    "            else:\n",
    "                pooled = last.mean(dim=1)\n",
    "\n",
    "            scores = head(pooled).squeeze(-1)  # (B_pairs,)\n",
    "\n",
    "            # regroup (item, option)\n",
    "            N = gold.shape[0]\n",
    "            scores3 = torch.full((N, 3), -1e-9, device=scores.device)\n",
    "            mi = map_idx.to(scores.device)\n",
    "            op = opt_pos.to(scores.device)\n",
    "            scores3[mi, op] = scores\n",
    "\n",
    "            p = torch.softmax(scores3, dim=1)  # (N, 3)\n",
    "            probs_batches.append(p.detach().cpu())\n",
    "\n",
    "        all_P.append(torch.cat(probs_batches, dim=0).numpy())\n",
    "\n",
    "    set_params_from_vector(theta0)\n",
    "    return np.stack(all_P, axis=0)  # (S, N, 3)\n",
    "\n",
    "# cache sample-wise probs for test set\n",
    "P_samps = posterior_samples_for_loader(test_loader, S=50, lam=1.0)  # (S, N, 3)\n",
    "P_mean = P_samps.mean(axis=0)\n",
    "P_std  = P_samps.std(axis=0)\n",
    "\n",
    "def plot_single_event(mean, std, y_true=None, class_names=(\"A\",\"B\",\"C\"), entry_id=None):\n",
    "    xs = np.arange(mean.shape[0])\n",
    "    plt.errorbar(xs, mean, yerr=std, fmt=\"none\", ecolor=\"k\", capsize=5)\n",
    "    plt.plot(xs, mean, \"o\", color=\"k\", markersize=6)\n",
    "    y_pred = int(mean.argmax())\n",
    "    plt.plot(xs[y_pred], mean[y_pred], \"o\", color=\"blue\", markersize=10)\n",
    "    if y_true is not None:\n",
    "        plt.plot(xs[y_true], mean[y_true], marker=\"*\", color=\"red\", markersize=14)\n",
    "    plt.xticks(xs, list(class_names)); plt.ylim(0,1); plt.ylabel(\"Probability\"); plt.xlabel(\"Category\")\n",
    "    plt.title(f\"Posterior for entry {entry_id}\" if entry_id is not None else \"Posterior (single question)\")\n",
    "    legend_elements = [\n",
    "        Line2D([0],[0], marker=\"o\", color=\"k\",   linestyle=\"none\", markersize=6,  label=\"Posterior (mean ± 1σ)\"),\n",
    "        Line2D([0],[0], marker=\"o\", color=\"blue\",linestyle=\"none\", markersize=10, label=\"Predicted\"),\n",
    "        Line2D([0],[0], marker=\"*\", color=\"red\", linestyle=\"none\", markersize=14, label=\"True\"),\n",
    "    ]\n",
    "    plt.legend(handles=legend_elements, loc=\"best\")\n",
    "    plt.grid(alpha=0.3); plt.show()\n",
    "\n",
    "# Show first 3 test examples\n",
    "y_test = test_df['label'].values.astype(int)\n",
    "for i in range(min(3, len(P_mean))):\n",
    "    plot_single_event(P_mean[i], P_std[i], y_true=y_test[i], class_names=(\"A\",\"B\",\"C\"), entry_id=i)"
   ]
  },
  {
   "cell_type": "markdown",
   "id": "8a5ac1bc",
   "metadata": {},
   "source": [
    "\n",
    "## 10) Notes & Next Steps\n",
    "\n",
    "- **LoRA targets**: adjust `target_modules` depending on the backbone (e.g., `query`, `key`, `value`, `dense`, or specific module names in RoBERTa/DistilBERT).\n",
    "- **λ (lam)**: try `0.1, 1.0, 5.0` to see how posterior width affects calibration/abstention.\n",
    "- **Full Laplace libraries**: for research‑grade Laplace, consider `laplace-torch` (not used here to keep dependencies light).\n",
    "- **Speed**: keep the model small (`bert-tiny`) and dataset tiny for quick iterations on CPU.\n",
    "- **Ethical angle**: plot **accuracy vs coverage** and **reliability** to illustrate “knowing when not to answer” after Bayesianizing the LoRA adapters.\n"
   ]
  }
 ],
 "metadata": {
  "kernelspec": {
   "display_name": "BayesianLM-QA-7licqJWx",
   "language": "python",
   "name": "python3"
  },
  "language_info": {
   "codemirror_mode": {
    "name": "ipython",
    "version": 3
   },
   "file_extension": ".py",
   "mimetype": "text/x-python",
   "name": "python",
   "nbconvert_exporter": "python",
   "pygments_lexer": "ipython3",
   "version": "3.13.7"
  }
 },
 "nbformat": 4,
 "nbformat_minor": 5
}
