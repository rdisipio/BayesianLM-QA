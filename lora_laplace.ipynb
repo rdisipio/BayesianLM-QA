{
 "cells": [
  {
   "cell_type": "markdown",
   "id": "d5a2bf15",
   "metadata": {},
   "source": [
    "\n",
    "# Experiment 3 — LoRA Adapters + Bayesian Approximation (Laplace/Fisher) for 3‑way MCQ\n",
    "\n",
    "**Goal.** Start from a small pretrained text encoder, add **LoRA adapters** to a few attention/projection modules, fine‑tune only those adapters on a **3‑option multiple‑choice** task, then place a **Bayesian posterior** over the *adapter parameters* using a simple **diagonal Laplace / Fisher approximation**.\n",
    "\n",
    "**Why this is nice (for education + speed):**\n",
    "- We avoid sampling full Transformer weights. We only adapt a tiny set of parameters (LoRA).\n",
    "- After fine‑tuning, we build a Gaussian posterior around the MAP solution using the **empirical Fisher diagonal** (i.e., squared gradients under the data).\n",
    "- Posterior predictive = **Monte Carlo average** over a few draws of adapter weights.\n",
    "- We can then plot the same **calibration** and **abstention** figures as in the previous experiments.\n"
   ]
  },
  {
   "cell_type": "markdown",
   "id": "011039a2",
   "metadata": {},
   "source": [
    "\n",
    "## 0) Setup\n",
    "\n",
    "Install (inside your Pipenv or environment):\n",
    "```bash\n",
    "pipenv run pip install \"torch>=2.2\" transformers peft accelerate datasets     scikit-learn pandas matplotlib numpy tqdm\n",
    "```\n",
    "> On Apple Silicon without GPU, this runs on CPU and is fine for small models.\n"
   ]
  },
  {
   "cell_type": "markdown",
   "id": "cbe48f2a",
   "metadata": {},
   "source": [
    "\n",
    "## Model — Encoder + LoRA adapters\n",
    "\n",
    "We use a small encoder to keep it fast. We score each (question, option) pair separately, then **softmax across the options**.\n"
   ]
  },
  {
   "cell_type": "code",
   "execution_count": 237,
   "id": "f2e30ecd",
   "metadata": {},
   "outputs": [
    {
     "name": "stderr",
     "output_type": "stream",
     "text": [
      "Some weights of DistilBertForMultipleChoice were not initialized from the model checkpoint at distilbert-base-uncased and are newly initialized: ['classifier.bias', 'classifier.weight', 'pre_classifier.bias', 'pre_classifier.weight']\n",
      "You should probably TRAIN this model on a down-stream task to be able to use it for predictions and inference.\n"
     ]
    },
    {
     "name": "stdout",
     "output_type": "stream",
     "text": [
      "distilbert.transformer.layer.0.attention.q_lin\n",
      "distilbert.transformer.layer.0.attention.k_lin\n",
      "distilbert.transformer.layer.0.attention.v_lin\n",
      "distilbert.transformer.layer.0.attention.out_lin\n",
      "distilbert.transformer.layer.1.attention.q_lin\n",
      "distilbert.transformer.layer.1.attention.k_lin\n",
      "distilbert.transformer.layer.1.attention.v_lin\n",
      "distilbert.transformer.layer.1.attention.out_lin\n",
      "distilbert.transformer.layer.2.attention.q_lin\n",
      "distilbert.transformer.layer.2.attention.k_lin\n",
      "distilbert.transformer.layer.2.attention.v_lin\n",
      "distilbert.transformer.layer.2.attention.out_lin\n",
      "distilbert.transformer.layer.3.attention.q_lin\n",
      "distilbert.transformer.layer.3.attention.k_lin\n",
      "distilbert.transformer.layer.3.attention.v_lin\n",
      "distilbert.transformer.layer.3.attention.out_lin\n",
      "distilbert.transformer.layer.4.attention.q_lin\n",
      "distilbert.transformer.layer.4.attention.k_lin\n",
      "distilbert.transformer.layer.4.attention.v_lin\n",
      "distilbert.transformer.layer.4.attention.out_lin\n"
     ]
    }
   ],
   "source": [
    "from transformers import AutoModelForMultipleChoice\n",
    "model_name = \"distilbert-base-uncased\"\n",
    "base_mc = AutoModelForMultipleChoice.from_pretrained(model_name)\n",
    "\n",
    "mods = []\n",
    "for n, _ in base_mc.named_modules():\n",
    "    if \"attention\" in n and \"lin\" in n:\n",
    "        mods.append(n)\n",
    "print(\"\\n\".join(mods[:20]))"
   ]
  },
  {
   "cell_type": "code",
   "execution_count": 239,
   "id": "7ca31aff",
   "metadata": {},
   "outputs": [
    {
     "name": "stderr",
     "output_type": "stream",
     "text": [
      "Some weights of DistilBertForMultipleChoice were not initialized from the model checkpoint at distilbert-base-uncased and are newly initialized: ['classifier.bias', 'classifier.weight', 'pre_classifier.bias', 'pre_classifier.weight']\n",
      "You should probably TRAIN this model on a down-stream task to be able to use it for predictions and inference.\n"
     ]
    }
   ],
   "source": [
    "\n",
    "import torch\n",
    "from torch import nn\n",
    "from transformers import AutoTokenizer, AutoModel, AutoModelForMultipleChoice\n",
    "from peft import LoraConfig, get_peft_model, TaskType\n",
    "import re\n",
    "\n",
    "#device = torch.device(\"cuda\" if torch.cuda.is_available() else \"cpu\")\n",
    "device = torch.device(\"mps\" if torch.backends.mps.is_available() else \"cpu\")\n",
    "\n",
    "#model_name = \"prajjwal1/bert-tiny\"  # small & fast\n",
    "#model_name = \"microsoft/MiniLM-L12-H384-uncased\"\n",
    "# model_name = \"prajjwal1/bert-small\"\n",
    "# model_name = \"bert-base-uncased\"\n",
    "model_name = \"distilbert-base-uncased\"\n",
    "\n",
    "tok = AutoTokenizer.from_pretrained(model_name)\n",
    "\n",
    "# Multiple-choice model (has a classification head that returns logits per choice)\n",
    "base_mc = AutoModelForMultipleChoice.from_pretrained(model_name).to(device)\n",
    "\n",
    "# Freeze base model\n",
    "#for p in base_mc.parameters():\n",
    "#    p.requires_grad_(False)\n",
    "\n",
    "targets = {\n",
    "    'bert-base-uncased': [\"query\", \"key\", \"value\", \"dense\"],\n",
    "    'distilbert-base-uncased': [\"q_lin\", \"k_lin\", \"v_lin\", \"out_lin\"]\n",
    "}\n",
    "# LoRA for sequence classification (MC is a seq-classification task)\n",
    "lora_cfg = LoraConfig(\n",
    "    task_type=TaskType.SEQ_CLS,\n",
    "    r=4, #8\n",
    "    lora_alpha=8, #16\n",
    "    lora_dropout=0.05,\n",
    "    target_modules=targets[model_name],\n",
    "    layers_to_transform=[4,5],           # DistilBERT layers are 0..5\n",
    "    layers_pattern=\"transformer.layer\",  # prefix before the {index}\n",
    "    bias=\"none\",\n",
    ")\n",
    "model = get_peft_model(base_mc, lora_cfg).to(device)\n",
    "\n",
    "# Optimizer\n",
    "opt = torch.optim.AdamW(model.parameters(), lr=2e-5, weight_decay=0.01)\n",
    "\n"
   ]
  },
  {
   "cell_type": "markdown",
   "id": "3c4a1aed",
   "metadata": {},
   "source": [
    "\n",
    "## 4) Dataloaders — turn MCQ into pairwise inputs\n",
    "\n",
    "Each example yields 3 encodings: (question, option_a/b/c) → we get [CLS] and score each separately.\n"
   ]
  },
  {
   "cell_type": "code",
   "execution_count": 240,
   "id": "8f3974a8",
   "metadata": {},
   "outputs": [
    {
     "name": "stdout",
     "output_type": "stream",
     "text": [
      "DatasetDict({\n",
      "    train: Dataset({\n",
      "        features: ['id', 'question', 'question_concept', 'choices', 'answerKey'],\n",
      "        num_rows: 9741\n",
      "    })\n",
      "    validation: Dataset({\n",
      "        features: ['id', 'question', 'question_concept', 'choices', 'answerKey'],\n",
      "        num_rows: 1221\n",
      "    })\n",
      "    test: Dataset({\n",
      "        features: ['id', 'question', 'question_concept', 'choices', 'answerKey'],\n",
      "        num_rows: 1140\n",
      "    })\n",
      "})\n"
     ]
    }
   ],
   "source": [
    "# ==== Load CommonsenseQA and build DataLoaders (N-choice) ====\n",
    "\n",
    "# pip install -q datasets  # run once if you don't have it\n",
    "from datasets import load_dataset\n",
    "from torch.utils.data import Dataset, DataLoader\n",
    "import torch\n",
    "import numpy as np\n",
    "import random\n",
    "\n",
    "# Reproducibility\n",
    "def set_seed(seed=42):\n",
    "    random.seed(seed); np.random.seed(seed); torch.manual_seed(seed)\n",
    "    if torch.cuda.is_available():\n",
    "        torch.cuda.manual_seed_all(seed)\n",
    "set_seed(42)\n",
    "\n",
    "# 1) Load the dataset (train/validation/test)\n",
    "csqa = load_dataset(\"commonsense_qa\")\n",
    "print(csqa)  # shows split sizes\n",
    "\n",
    "\n",
    "class CommonsenseQADataset(Dataset):\n",
    "    def __init__(self, hf_split):\n",
    "        self.data = hf_split\n",
    "    def __len__(self): return len(self.data)\n",
    "    def __getitem__(self, idx):\n",
    "        ex = self.data[idx]\n",
    "        q = ex[\"question\"]\n",
    "        opts = ex[\"choices\"][\"text\"]           # list of 5 options\n",
    "        labs = ex[\"choices\"][\"label\"]          # ['A','B','C','D','E']\n",
    "        y = labs.index(ex[\"answerKey\"])\n",
    "        return q, opts, y\n",
    "\n",
    "def collate(batch, max_length=96):\n",
    "    qs, opts_list, labels = zip(*batch)\n",
    "    encs = []\n",
    "    for q, opts in zip(qs, opts_list):\n",
    "        enc = tok([q]*len(opts), list(opts),\n",
    "                  truncation=True, padding=\"max_length\",\n",
    "                  max_length=max_length, return_tensors=\"pt\")\n",
    "        encs.append(enc)\n",
    "    out = {\n",
    "        \"input_ids\":      torch.stack([e[\"input_ids\"] for e in encs], dim=0),\n",
    "        \"attention_mask\": torch.stack([e[\"attention_mask\"] for e in encs], dim=0),\n",
    "        \"labels\":         torch.tensor(labels, dtype=torch.long),\n",
    "    }\n",
    "    return {k: v.to(model.device) for k, v in out.items()}"
   ]
  },
  {
   "cell_type": "code",
   "execution_count": 243,
   "id": "4e4c358f",
   "metadata": {},
   "outputs": [],
   "source": [
    "from datasets import load_dataset\n",
    "\n",
    "csqa = load_dataset(\"commonsense_qa\")\n",
    "\n",
    "# take the first n examples after a shuffle\n",
    "N_TRAIN = 2000\n",
    "N_VAL   = 500\n",
    "\n",
    "train_split = csqa[\"train\"].shuffle(seed=42).select(range(N_TRAIN))\n",
    "val_split   = csqa[\"validation\"].shuffle(seed=42).select(range(N_VAL))\n",
    "\n",
    "train_ds = CommonsenseQADataset(train_split)\n",
    "val_ds   = CommonsenseQADataset(val_split)  # use as test/val\n",
    "\n",
    "train_loader = DataLoader(train_ds, batch_size=16, shuffle=True,  collate_fn=collate)\n",
    "val_loader   = DataLoader(val_ds,   batch_size=32, shuffle=False, collate_fn=collate)\n"
   ]
  },
  {
   "cell_type": "markdown",
   "id": "7c39cf25",
   "metadata": {},
   "source": [
    "\n",
    "## 5) Fine‑tune LoRA adapters (MAP estimate)\n",
    "\n",
    "We optimize only **LoRA adapter params** and the **linear head**, with cross‑entropy over the 3 options.\n"
   ]
  },
  {
   "cell_type": "code",
   "execution_count": null,
   "id": "3584c9d5",
   "metadata": {},
   "outputs": [
    {
     "name": "stderr",
     "output_type": "stream",
     "text": [
      "ep 1 [train]: 100%|██████████| 125/125 [01:02<00:00,  1.99it/s]\n",
      "ep 1 [eval]: 100%|██████████| 16/16 [00:09<00:00,  1.71it/s]\n"
     ]
    },
    {
     "name": "stdout",
     "output_type": "stream",
     "text": [
      "epoch 01 | train loss 1.610 acc 0.219 | val loss 1.607 acc 0.276\n"
     ]
    },
    {
     "name": "stderr",
     "output_type": "stream",
     "text": [
      "ep 2 [train]: 100%|██████████| 125/125 [01:01<00:00,  2.03it/s]\n",
      "ep 2 [eval]: 100%|██████████| 16/16 [00:09<00:00,  1.73it/s]\n"
     ]
    },
    {
     "name": "stdout",
     "output_type": "stream",
     "text": [
      "epoch 02 | train loss 1.608 acc 0.208 | val loss 1.604 acc 0.324\n"
     ]
    },
    {
     "name": "stderr",
     "output_type": "stream",
     "text": [
      "ep 3 [train]: 100%|██████████| 125/125 [01:03<00:00,  1.97it/s]\n",
      "ep 3 [eval]:   0%|          | 0/16 [00:00<?, ?it/s]"
     ]
    }
   ],
   "source": [
    "from tqdm import tqdm\n",
    "from torch.cuda.amp import autocast  # yes, name says cuda; works with device_type='mps' in PyTorch 2.x\n",
    "\n",
    "EPOCHS = 10\n",
    "for ep in range(1, EPOCHS+1):\n",
    "    # train\n",
    "    model.train()\n",
    "    tot, correct, loss_sum = 0, 0, 0.0\n",
    "    for batch in tqdm(train_loader, desc=f\"ep {ep} [train]\"):\n",
    "        opt.zero_grad(set_to_none=True)\n",
    "        with torch.autocast(device_type=\"mps\", dtype=torch.float16):\n",
    "            out  = model(**batch)     # for MC models: returns loss + logits\n",
    "            loss = out.loss\n",
    "        loss.backward()\n",
    "        opt.step()\n",
    "        \n",
    "        loss_sum += loss.item() * batch[\"labels\"].size(0)\n",
    "        pred = out.logits.argmax(dim=1)\n",
    "        correct += (pred == batch[\"labels\"]).sum().item()\n",
    "        tot += batch[\"labels\"].size(0)\n",
    "    tr_loss = loss_sum / max(tot, 1)\n",
    "    tr_acc  = correct / max(tot, 1)\n",
    "\n",
    "    # eval\n",
    "    model.eval()\n",
    "    tot, correct, loss_sum = 0, 0, 0.0\n",
    "    with torch.no_grad():\n",
    "        for batch in tqdm(val_loader, desc=f\"ep {ep} [eval]\"):\n",
    "            out = model(**batch)\n",
    "            loss_sum += out.loss.item() * batch[\"labels\"].size(0)\n",
    "            pred = out.logits.argmax(dim=1)\n",
    "            correct += (pred == batch[\"labels\"]).sum().item()\n",
    "            tot += batch[\"labels\"].size(0)\n",
    "    te_loss = loss_sum / max(tot, 1)\n",
    "    te_acc  = correct / max(tot, 1)\n",
    "    print(f\"epoch {ep:02d} | train loss {tr_loss:.3f} acc {tr_acc:.3f} | val loss {te_loss:.3f} acc {te_acc:.3f}\")"
   ]
  },
  {
   "cell_type": "markdown",
   "id": "0e837edc",
   "metadata": {},
   "source": [
    "\n",
    "## 6) Diagonal Laplace / Empirical Fisher over LoRA + head\n",
    "\n",
    "We approximate the posterior around the MAP θ with a **diagonal Gaussian**.  \n",
    "For a batch, we accumulate the **squared gradients of log‑likelihood** (equivalently, gradients of CE) as the **empirical Fisher diagonal**.\n"
   ]
  },
  {
   "cell_type": "code",
   "execution_count": 201,
   "id": "67cd559b",
   "metadata": {},
   "outputs": [
    {
     "name": "stdout",
     "output_type": "stream",
     "text": [
      "[Laplace] trainable tensors: 52 | numel: 738,817\n"
     ]
    }
   ],
   "source": [
    "# ==== Laplace snapshot utilities (PEFT-wrapped Multiple-Choice model) ====\n",
    "\n",
    "import torch\n",
    "import numpy as np\n",
    "from tqdm import tqdm, trange\n",
    "\n",
    "device = next(model.parameters()).device  # infer device from model\n",
    "\n",
    "def get_trainable_snapshot():\n",
    "    \"\"\"Capture the CURRENT set of trainable params (LoRA + classifier head).\"\"\"\n",
    "    params = [p for p in model.parameters() if p.requires_grad]\n",
    "    shapes = [p.shape for p in params]\n",
    "    numel  = sum(p.numel() for p in params)\n",
    "    return params, shapes, numel\n",
    "\n",
    "trainable, shapes, numel = get_trainable_snapshot()\n",
    "\n",
    "def pack(params):\n",
    "    return torch.cat([p.detach().reshape(-1) for p in params]).to(device)\n",
    "\n",
    "def pack_grads(params):\n",
    "    parts = []\n",
    "    for p in params:\n",
    "        if p.grad is None:\n",
    "            parts.append(torch.zeros_like(p).reshape(-1))\n",
    "        else:\n",
    "            parts.append(p.grad.detach().reshape(-1))\n",
    "    return torch.cat(parts).to(device)\n",
    "\n",
    "def unpack(vec):\n",
    "    out = []\n",
    "    i = 0\n",
    "    for shp in shapes:\n",
    "        n = int(torch.tensor(shp).prod().item())\n",
    "        out.append(vec[i:i+n].view(shp).clone())\n",
    "        i += n\n",
    "    return out\n",
    "\n",
    "@torch.no_grad()\n",
    "def set_params_from_vector(vec):\n",
    "    \"\"\"Write a flat vector back into the CURRENT trainable params (same ordering as snapshot).\"\"\"\n",
    "    parts = unpack(vec)\n",
    "    i = 0\n",
    "    for p in model.parameters():\n",
    "        if p.requires_grad:\n",
    "            p.copy_(parts[i]); i += 1\n",
    "\n",
    "theta_map = pack(trainable)  # MAP point (post-training weights)\n",
    "print(f\"[Laplace] trainable tensors: {len(trainable)} | numel: {numel:,}\")"
   ]
  },
  {
   "cell_type": "code",
   "execution_count": 202,
   "id": "940bc0c6",
   "metadata": {},
   "outputs": [
    {
     "name": "stderr",
     "output_type": "stream",
     "text": [
      "                               "
     ]
    },
    {
     "name": "stdout",
     "output_type": "stream",
     "text": [
      "F_diag: (738817,) mean: 1.3974963621876668e-06\n"
     ]
    },
    {
     "name": "stderr",
     "output_type": "stream",
     "text": [
      "\r"
     ]
    }
   ],
   "source": [
    "# ==== Empirical Fisher diagonal for Multiple-Choice model ====\n",
    "\n",
    "import torch.nn as nn\n",
    "\n",
    "def fisher_diag(train_loader, num_batches=None, use_train_mode=False, show_progress=True):\n",
    "    \"\"\"\n",
    "    Empirical Fisher diagonal: E[(∂/∂θ log p(y|x,θ))^2] estimated by squared grads of CE loss.\n",
    "    Uses the model's built-in MC loss (so pass labels in the batch).\n",
    "    \"\"\"\n",
    "    # Mode (dropout behavior)\n",
    "    if use_train_mode:\n",
    "        model.train()\n",
    "    else:\n",
    "        model.eval()\n",
    "\n",
    "    F = torch.zeros(numel, device=device)\n",
    "    count = 0\n",
    "\n",
    "    it = enumerate(train_loader)\n",
    "    if show_progress:\n",
    "        it = tqdm(it, total=None if num_batches is None else num_batches, desc=\"Fisher\", leave=False)\n",
    "\n",
    "    for b, batch in it:\n",
    "        if num_batches and b >= num_batches:\n",
    "            break\n",
    "\n",
    "        # Ensure the batch has labels; model handles loss internally\n",
    "        batch = {k: v for k, v in batch.items()}  # shallow copy\n",
    "        model.zero_grad(set_to_none=True)\n",
    "\n",
    "        out = model(**batch)         # expects labels; returns .loss\n",
    "        loss = out.loss\n",
    "        loss.backward()\n",
    "\n",
    "        g = pack_grads(trainable)    # grads for CURRENT trainable set\n",
    "        if g.numel() != numel:\n",
    "            raise RuntimeError(f\"Grad vector {g.numel()} != numel snapshot {numel}. Rebuild snapshot.\")\n",
    "        F += g.pow(2)\n",
    "        count += 1\n",
    "\n",
    "    if count > 0:\n",
    "        F /= count\n",
    "    return F + 1e-8  # jitter\n",
    "\n",
    "# Compute F on your (sub)set\n",
    "F_diag = fisher_diag(train_loader, num_batches=None, use_train_mode=False, show_progress=True)\n",
    "print(\"F_diag:\", tuple(F_diag.shape), \"mean:\", F_diag.mean().item())"
   ]
  },
  {
   "cell_type": "markdown",
   "id": "2ba59d4d",
   "metadata": {},
   "source": [
    "\n",
    "## 7) Posterior predictive via Gaussian samples over θ\n",
    "\n",
    "We assume a **Gaussian posterior**: \\( \\theta \\sim \\mathcal{N}(\\theta_{MAP}, \\Sigma) \\)  \n",
    "with diagonal \\( \\Sigma = (\\lambda \\cdot F)^{-1} \\). Hyper‑parameter \\(\\lambda\\) acts like precision from a simple Gaussian prior / damping.\n"
   ]
  },
  {
   "cell_type": "code",
   "execution_count": null,
   "id": "018e1a55",
   "metadata": {},
   "outputs": [],
   "source": [
    "# ==== Monte Carlo posterior predictive over choices (N-choice) ====\n",
    "\n",
    "@torch.no_grad()\n",
    "def predict_proba_mc(loader, S=30, lam=1.0, show_progress=True):\n",
    "    \"\"\"\n",
    "    Returns mean probs over S parameter samples: shape (N_total_items, C).\n",
    "    Assumes each batch has consistent C (true for CSQA).\n",
    "    lam is the strength of the Gaussian prior in the Laplace approximation.\n",
    "    \"\"\"\n",
    "    model.eval()\n",
    "\n",
    "    assert F_diag.numel() == numel, f\"F_diag {F_diag.numel()} != numel {numel}. Rebuild snapshot.\"\n",
    "    var = 1.0 / (lam * F_diag)     # (numel,)\n",
    "    std = var.sqrt()\n",
    "    theta0 = pack(trainable)       # cache current params\n",
    "\n",
    "    all_probs = []\n",
    "    outer = trange(S, desc=\"MC θ samples\", leave=False, disable=not show_progress)\n",
    "    for _ in outer:\n",
    "        theta_s = theta_map + torch.randn_like(std) * std\n",
    "        set_params_from_vector(theta_s)\n",
    "\n",
    "        batch_probs = []\n",
    "        inner = loader if not show_progress else tqdm(loader, desc=\"MC batches\", leave=False)\n",
    "        for batch in inner:\n",
    "            batch_nolabels = {k: v for k, v in batch.items() if k != \"labels\"}  # no labels at predict time\n",
    "            out = model(**batch_nolabels)   # logits: (B, C)\n",
    "            p = torch.softmax(out.logits, dim=1)  # (B, C)\n",
    "            batch_probs.append(p.detach().cpu())\n",
    "        all_probs.append(torch.cat(batch_probs, dim=0))\n",
    "\n",
    "    # Restore original params\n",
    "    set_params_from_vector(theta0)\n",
    "\n",
    "    P = torch.stack(all_probs, dim=0).mean(dim=0).cpu().numpy()  # (N_total, C)\n",
    "    return P"
   ]
  },
  {
   "cell_type": "code",
   "execution_count": null,
   "id": "f391ebd8",
   "metadata": {},
   "outputs": [
    {
     "name": "stderr",
     "output_type": "stream",
     "text": [
      "                                                             \r"
     ]
    },
    {
     "name": "stdout",
     "output_type": "stream",
     "text": [
      "Shapes -> p_tr: (1000, 5) p_te: (200, 5)\n",
      "Acc train: 0.203 | val: 0.235\n"
     ]
    }
   ],
   "source": [
    "# ==== Example usage: MC posterior predictive on train/val ====\n",
    "\n",
    "S_MC = 10 # quick run\n",
    "LAM  = 1.0\n",
    "\n",
    "p_tr = predict_proba_mc(train_loader, S=S_MC, lam=LAM, show_progress=True)\n",
    "p_te = predict_proba_mc(val_loader,   S=S_MC, lam=LAM, show_progress=True)\n",
    "print(\"Shapes -> p_tr:\", p_tr.shape, \"p_te:\", p_te.shape)\n",
    "\n",
    "# Collect labels back from loaders (same order)\n",
    "@torch.no_grad()\n",
    "def collect_labels(loader):\n",
    "    ys = []\n",
    "    for batch in loader:\n",
    "        ys.append(batch[\"labels\"].detach().cpu().numpy())\n",
    "    return np.concatenate(ys, axis=0)\n",
    "\n",
    "y_tr = collect_labels(train_loader).astype(int)\n",
    "y_te = collect_labels(val_loader).astype(int)\n",
    "\n",
    "def accuracy_from_probs(p, y):\n",
    "    return float((p.argmax(axis=1) == y).mean())\n",
    "\n",
    "print(f\"Acc train: {accuracy_from_probs(p_tr, y_tr):.3f} | val: {accuracy_from_probs(p_te, y_te):.3f}\")"
   ]
  },
  {
   "cell_type": "markdown",
   "id": "fa877f20",
   "metadata": {},
   "source": [
    "\n",
    "## 8) Metrics: Accuracy, Reliability Diagram, Selective Prediction\n"
   ]
  },
  {
   "cell_type": "code",
   "execution_count": 205,
   "id": "6eed5586",
   "metadata": {},
   "outputs": [
    {
     "data": {
      "image/png": "[encoded data removed]",
      "text/plain": [
       "<Figure size 550x500 with 1 Axes>"
      ]
     },
     "metadata": {},
     "output_type": "display_data"
    },
    {
     "name": "stdout",
     "output_type": "stream",
     "text": [
      "ECE (test): 0.066\n"
     ]
    },
    {
     "data": {
      "image/png": "[encoded data removed]",
      "text/plain": [
       "<Figure size 600x400 with 1 Axes>"
      ]
     },
     "metadata": {},
     "output_type": "display_data"
    }
   ],
   "source": [
    "# ==== Accuracy, Reliability Diagram, and Selective Prediction (N-choice) ====\n",
    "\n",
    "\n",
    "import numpy as np\n",
    "import matplotlib.pyplot as plt\n",
    "\n",
    "\n",
    "# 4) Reliability diagram (top-class confidence vs empirical accuracy)\n",
    "def reliability_points(p, y, n_bins=15):\n",
    "    conf = p.max(axis=1)\n",
    "    yhat = p.argmax(axis=1)\n",
    "    correct = (yhat == y).astype(np.float32)\n",
    "    bins = np.linspace(0.0, 1.0, n_bins+1)\n",
    "    mids, accs, confs, counts = [], [], [], []\n",
    "    for i in range(n_bins):\n",
    "        lo, hi = bins[i], bins[i+1]\n",
    "        sel = (conf >= lo) & (conf < hi) if i < n_bins-1 else (conf >= lo) & (conf <= hi)\n",
    "        if sel.any():\n",
    "            mids.append(0.5*(lo+hi))\n",
    "            accs.append(correct[sel].mean())\n",
    "            confs.append(conf[sel].mean())\n",
    "            counts.append(sel.sum())\n",
    "    return np.array(mids), np.array(accs), np.array(confs), np.array(counts)\n",
    "\n",
    "mids_te, accs_te, confs_te, cnts_te = reliability_points(p_te, y_te, n_bins=15)\n",
    "\n",
    "plt.figure(figsize=(5.5,5))\n",
    "plt.plot([0,1], [0,1], '--', alpha=0.6, label=\"Perfect calibration\")\n",
    "plt.scatter(confs_te, accs_te, s=np.clip(cnts_te, 10, 150), alpha=0.8)\n",
    "for c,a in zip(confs_te, accs_te):\n",
    "    plt.plot([c,c],[c,a], alpha=0.25)  # calibration error per bin\n",
    "plt.xlabel(\"Mean predicted confidence (top class)\")\n",
    "plt.ylabel(\"Empirical accuracy\")\n",
    "plt.title(\"Reliability diagram (test)\")\n",
    "plt.grid(True, alpha=0.3)\n",
    "plt.legend(); plt.show()\n",
    "\n",
    "# Optional: Expected Calibration Error (ECE)\n",
    "def expected_calibration_error(p, y, n_bins=15):\n",
    "    conf = p.max(axis=1)\n",
    "    yhat = p.argmax(axis=1)\n",
    "    correct = (yhat == y).astype(np.float32)\n",
    "    bins = np.linspace(0.0, 1.0, n_bins+1)\n",
    "    ece = 0.0\n",
    "    N = len(y)\n",
    "    for i in range(n_bins):\n",
    "        lo, hi = bins[i], bins[i+1]\n",
    "        sel = (conf >= lo) & (conf < hi) if i < n_bins-1 else (conf >= lo) & (conf <= hi)\n",
    "        if sel.any():\n",
    "            gap = abs(correct[sel].mean() - conf[sel].mean())\n",
    "            ece += (sel.sum()/N) * gap\n",
    "    return float(ece)\n",
    "\n",
    "ece_te = expected_calibration_error(p_te, y_te, n_bins=15)\n",
    "print(f\"ECE (test): {ece_te:.3f}\")\n",
    "\n",
    "# 5) Selective prediction: accuracy vs coverage\n",
    "def evaluate_with_abstention(probs, y_true, tau=0.5):\n",
    "    conf = probs.max(axis=1)\n",
    "    pred = probs.argmax(axis=1)\n",
    "    answered = conf >= tau\n",
    "    coverage = answered.mean()\n",
    "    acc = float(\"nan\") if coverage == 0 else (pred[answered] == y_true[answered]).mean()\n",
    "    return coverage, acc\n",
    "\n",
    "# Adaptive thresholds from the data (ensures non-empty curve)\n",
    "conf_te = p_te.max(axis=1)\n",
    "taus = np.r_[0.0, np.sort(np.unique(np.round(conf_te, 4))), 0.999]\n",
    "\n",
    "cov_acc = np.array([evaluate_with_abstention(p_te, y_te, tau=t) for t in taus])\n",
    "coverages, accs = cov_acc[:,0], cov_acc[:,1]\n",
    "mask = ~np.isnan(accs)\n",
    "\n",
    "plt.figure(figsize=(6,4))\n",
    "plt.plot(coverages[mask], accs[mask], marker=\"o\")\n",
    "plt.xlabel(\"Coverage (fraction answered)\")\n",
    "plt.ylabel(\"Accuracy on answered\")\n",
    "plt.title(\"Selective Prediction: Accuracy vs Coverage (test)\")\n",
    "plt.grid(True, alpha=0.3)\n",
    "plt.show()"
   ]
  },
  {
   "cell_type": "markdown",
   "id": "9bc13080",
   "metadata": {},
   "source": [
    "\n",
    "## 9) Per‑question posterior predictive (mean ± 1σ) with markers\n"
   ]
  },
  {
   "cell_type": "code",
   "execution_count": 128,
   "id": "9c99655f",
   "metadata": {},
   "outputs": [],
   "source": [
    "@torch.no_grad()\n",
    "def posterior_samples_for_loader(dataloader, S=30, lam=1.0):\n",
    "    base_lora.eval(); head.eval()\n",
    "    var = 1.0 / (lam * F_diag); std = var.sqrt()\n",
    "    theta0 = pack(trainable)\n",
    "    all_P = []\n",
    "    for _ in range(S):\n",
    "        theta_s = theta_map + torch.randn_like(std) * std\n",
    "        set_params_from_vector(theta_s)\n",
    "        probs_batches = []\n",
    "        for enc, map_idx, opt_pos, gold in dataloader:\n",
    "            out = base_lora(\n",
    "                input_ids=enc.get(\"input_ids\"),\n",
    "                attention_mask=enc.get(\"attention_mask\"),\n",
    "                token_type_ids=enc.get(\"token_type_ids\"),\n",
    "            )\n",
    "            scores_flat = forward_scores(out, head, attn_mask=enc.get(\"attention_mask\"))\n",
    "            N = gold.shape[0]\n",
    "            C = int(opt_pos.max().item()) + 1\n",
    "            scoresC = regroup_scores(scores_flat, map_idx, opt_pos, N, C)\n",
    "            p = torch.softmax(scoresC, dim=1)\n",
    "            probs_batches.append(p.detach().cpu().numpy())\n",
    "        all_P.append(np.concatenate(probs_batches, axis=0))\n",
    "    set_params_from_vector(theta0)\n",
    "    return np.stack(all_P, axis=0)  # (S, N, C)"
   ]
  },
  {
   "cell_type": "code",
   "execution_count": 129,
   "id": "49a92f3a",
   "metadata": {},
   "outputs": [],
   "source": [
    "from matplotlib.lines import Line2D\n",
    "import numpy as np\n",
    "import matplotlib.pyplot as plt\n",
    "\n",
    "def plot_single_event(mean, std, y_true=None, class_names=None, entry_id=None):\n",
    "    C = mean.shape[0]\n",
    "    xs = np.arange(C)\n",
    "    labels = class_names if class_names is not None else [chr(ord('A')+i) for i in range(C)]\n",
    "    plt.errorbar(xs, mean, yerr=std, fmt=\"none\", ecolor=\"k\", capsize=5)\n",
    "    plt.plot(xs, mean, \"o\", color=\"k\", markersize=6)\n",
    "    y_pred = int(mean.argmax())\n",
    "    plt.plot(xs[y_pred], mean[y_pred], \"o\", color=\"blue\", markersize=10)\n",
    "    if y_true is not None:\n",
    "        plt.plot(xs[y_true], mean[y_true], marker=\"*\", color=\"red\", markersize=14)\n",
    "    plt.xticks(xs, labels); plt.ylim(0,1); plt.ylabel(\"Probability\"); plt.xlabel(\"Category\")\n",
    "    plt.title(f\"Posterior for entry {entry_id}\" if entry_id is not None else \"Posterior (single question)\")\n",
    "    legend_elements = [\n",
    "        Line2D([0],[0], marker=\"o\", color=\"k\",   linestyle=\"none\", markersize=6,  label=\"Posterior (mean ± 1σ)\"),\n",
    "        Line2D([0],[0], marker=\"o\", color=\"blue\",linestyle=\"none\", markersize=10, label=\"Predicted\"),\n",
    "        Line2D([0],[0], marker=\"*\", color=\"red\", linestyle=\"none\", markersize=14, label=\"True\"),\n",
    "    ]\n",
    "    plt.legend(handles=legend_elements, loc=\"best\"); plt.grid(alpha=0.3); plt.show()"
   ]
  },
  {
   "cell_type": "markdown",
   "id": "8a5ac1bc",
   "metadata": {},
   "source": [
    "\n",
    "## 10) Notes & Next Steps\n",
    "\n",
    "- **LoRA targets**: adjust `target_modules` depending on the backbone (e.g., `query`, `key`, `value`, `dense`, or specific module names in RoBERTa/DistilBERT).\n",
    "- **λ (lam)**: try `0.1, 1.0, 5.0` to see how posterior width affects calibration/abstention.\n",
    "- **Full Laplace libraries**: for research‑grade Laplace, consider `laplace-torch` (not used here to keep dependencies light).\n",
    "- **Speed**: keep the model small (`bert-tiny`) and dataset tiny for quick iterations on CPU.\n",
    "- **Ethical angle**: plot **accuracy vs coverage** and **reliability** to illustrate “knowing when not to answer” after Bayesianizing the LoRA adapters.\n"
   ]
  }
 ],
 "metadata": {
  "kernelspec": {
   "display_name": "BayesianLM-QA-7licqJWx",
   "language": "python",
   "name": "python3"
  },
  "language_info": {
   "codemirror_mode": {
    "name": "ipython",
    "version": 3
   },
   "file_extension": ".py",
   "mimetype": "text/x-python",
   "name": "python",
   "nbconvert_exporter": "python",
   "pygments_lexer": "ipython3",
   "version": "3.13.7"
  }
 },
 "nbformat": 4,
 "nbformat_minor": 5
}
